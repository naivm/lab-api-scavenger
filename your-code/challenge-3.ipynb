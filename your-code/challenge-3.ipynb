{
 "cells": [
  {
   "cell_type": "code",
   "execution_count": 2,
   "metadata": {},
   "outputs": [],
   "source": [
    "import pandas as pd\n",
    "import numpy as np\n",
    "import requests\n",
    "import json\n",
    "from pandas.io.json import json_normalize"
   ]
  },
  {
   "cell_type": "code",
   "execution_count": 3,
   "metadata": {},
   "outputs": [],
   "source": [
    "#?since=2019-5-26&until=2019-8-26\"\n",
    "#url3 = \"https://api.github.com/search/code?q=+user:ta-data-lis+repo:ironhack-datalabs/scavenger+filename:*.scavengerhunt+in:file\"\n",
    "url = \"https://api.github.com/search/code?q=filename:scavengerhunt+repo:ironhack-datalabs/scavenger\"\n",
    "response_commit = requests.get(url).json()\n",
    "\n",
    "#data = pd.DataFrame(response_commit.json())"
   ]
  },
  {
   "cell_type": "code",
   "execution_count": 4,
   "metadata": {},
   "outputs": [],
   "source": [
    "#from pandas.io.json import json_normalize\n",
    "#norm_json = json_normalize(response_commit.json())\n",
    "#ds_commit = pd.DataFrame(norm_json)\n",
    "#ds_commit.head()\n"
   ]
  },
  {
   "cell_type": "code",
   "execution_count": 5,
   "metadata": {},
   "outputs": [
    {
     "data": {
      "text/html": [
       "<div>\n",
       "<style scoped>\n",
       "    .dataframe tbody tr th:only-of-type {\n",
       "        vertical-align: middle;\n",
       "    }\n",
       "\n",
       "    .dataframe tbody tr th {\n",
       "        vertical-align: top;\n",
       "    }\n",
       "\n",
       "    .dataframe thead th {\n",
       "        text-align: right;\n",
       "    }\n",
       "</style>\n",
       "<table border=\"1\" class=\"dataframe\">\n",
       "  <thead>\n",
       "    <tr style=\"text-align: right;\">\n",
       "      <th></th>\n",
       "      <th>git_url</th>\n",
       "      <th>html_url</th>\n",
       "      <th>name</th>\n",
       "      <th>path</th>\n",
       "      <th>repository</th>\n",
       "      <th>score</th>\n",
       "      <th>sha</th>\n",
       "      <th>url</th>\n",
       "    </tr>\n",
       "  </thead>\n",
       "  <tbody>\n",
       "    <tr>\n",
       "      <th>0</th>\n",
       "      <td>https://api.github.com/repositories/162375181/...</td>\n",
       "      <td>https://github.com/ironhack-datalabs/scavenger...</td>\n",
       "      <td>.0001.scavengerhunt</td>\n",
       "      <td>98750/.0001.scavengerhunt</td>\n",
       "      <td>{'id': 162375181, 'node_id': 'MDEwOlJlcG9zaXRv...</td>\n",
       "      <td>18.551006</td>\n",
       "      <td>2add7632f1323136324efbf38ec66db1838b6173</td>\n",
       "      <td>https://api.github.com/repositories/162375181/...</td>\n",
       "    </tr>\n",
       "    <tr>\n",
       "      <th>1</th>\n",
       "      <td>https://api.github.com/repositories/162375181/...</td>\n",
       "      <td>https://github.com/ironhack-datalabs/scavenger...</td>\n",
       "      <td>.0002.scavengerhunt</td>\n",
       "      <td>88596/.0002.scavengerhunt</td>\n",
       "      <td>{'id': 162375181, 'node_id': 'MDEwOlJlcG9zaXRv...</td>\n",
       "      <td>18.551006</td>\n",
       "      <td>1269488f7fb1f4b56a8c0e5eb48cecbfadfa9219</td>\n",
       "      <td>https://api.github.com/repositories/162375181/...</td>\n",
       "    </tr>\n",
       "    <tr>\n",
       "      <th>2</th>\n",
       "      <td>https://api.github.com/repositories/162375181/...</td>\n",
       "      <td>https://github.com/ironhack-datalabs/scavenger...</td>\n",
       "      <td>.0003.scavengerhunt</td>\n",
       "      <td>60224/.0003.scavengerhunt</td>\n",
       "      <td>{'id': 162375181, 'node_id': 'MDEwOlJlcG9zaXRv...</td>\n",
       "      <td>18.551006</td>\n",
       "      <td>ba524d7abc4b3a0c0995eb85c9eef470e9e7172f</td>\n",
       "      <td>https://api.github.com/repositories/162375181/...</td>\n",
       "    </tr>\n",
       "    <tr>\n",
       "      <th>3</th>\n",
       "      <td>https://api.github.com/repositories/162375181/...</td>\n",
       "      <td>https://github.com/ironhack-datalabs/scavenger...</td>\n",
       "      <td>.0004.scavengerhunt</td>\n",
       "      <td>68848/.0004.scavengerhunt</td>\n",
       "      <td>{'id': 162375181, 'node_id': 'MDEwOlJlcG9zaXRv...</td>\n",
       "      <td>18.551006</td>\n",
       "      <td>d15a2cc44e31b14c65264271b81072e5ba0e1634</td>\n",
       "      <td>https://api.github.com/repositories/162375181/...</td>\n",
       "    </tr>\n",
       "    <tr>\n",
       "      <th>4</th>\n",
       "      <td>https://api.github.com/repositories/162375181/...</td>\n",
       "      <td>https://github.com/ironhack-datalabs/scavenger...</td>\n",
       "      <td>.0005.scavengerhunt</td>\n",
       "      <td>44639/.0005.scavengerhunt</td>\n",
       "      <td>{'id': 162375181, 'node_id': 'MDEwOlJlcG9zaXRv...</td>\n",
       "      <td>18.551006</td>\n",
       "      <td>3aaf448b40f878cf3067e2323616143bdde600de</td>\n",
       "      <td>https://api.github.com/repositories/162375181/...</td>\n",
       "    </tr>\n",
       "    <tr>\n",
       "      <th>5</th>\n",
       "      <td>https://api.github.com/repositories/162375181/...</td>\n",
       "      <td>https://github.com/ironhack-datalabs/scavenger...</td>\n",
       "      <td>.0006.scavengerhunt</td>\n",
       "      <td>15024/.0006.scavengerhunt</td>\n",
       "      <td>{'id': 162375181, 'node_id': 'MDEwOlJlcG9zaXRv...</td>\n",
       "      <td>18.551006</td>\n",
       "      <td>1c9064284a24b3486015eafdb391b141c27ada2b</td>\n",
       "      <td>https://api.github.com/repositories/162375181/...</td>\n",
       "    </tr>\n",
       "    <tr>\n",
       "      <th>6</th>\n",
       "      <td>https://api.github.com/repositories/162375181/...</td>\n",
       "      <td>https://github.com/ironhack-datalabs/scavenger...</td>\n",
       "      <td>.0007.scavengerhunt</td>\n",
       "      <td>17020/.0007.scavengerhunt</td>\n",
       "      <td>{'id': 162375181, 'node_id': 'MDEwOlJlcG9zaXRv...</td>\n",
       "      <td>18.551006</td>\n",
       "      <td>6abb415e0ae3450be0f323113bcca2af195ebbff</td>\n",
       "      <td>https://api.github.com/repositories/162375181/...</td>\n",
       "    </tr>\n",
       "    <tr>\n",
       "      <th>7</th>\n",
       "      <td>https://api.github.com/repositories/162375181/...</td>\n",
       "      <td>https://github.com/ironhack-datalabs/scavenger...</td>\n",
       "      <td>.0008.scavengerhunt</td>\n",
       "      <td>15534/.0008.scavengerhunt</td>\n",
       "      <td>{'id': 162375181, 'node_id': 'MDEwOlJlcG9zaXRv...</td>\n",
       "      <td>18.551006</td>\n",
       "      <td>e351fb73264581ce26504b97ef07daea35116f32</td>\n",
       "      <td>https://api.github.com/repositories/162375181/...</td>\n",
       "    </tr>\n",
       "    <tr>\n",
       "      <th>8</th>\n",
       "      <td>https://api.github.com/repositories/162375181/...</td>\n",
       "      <td>https://github.com/ironhack-datalabs/scavenger...</td>\n",
       "      <td>.0009.scavengerhunt</td>\n",
       "      <td>97881/.0009.scavengerhunt</td>\n",
       "      <td>{'id': 162375181, 'node_id': 'MDEwOlJlcG9zaXRv...</td>\n",
       "      <td>18.551006</td>\n",
       "      <td>f5cb13223fdc1b11f4cfbbe1694f533b3c579fa0</td>\n",
       "      <td>https://api.github.com/repositories/162375181/...</td>\n",
       "    </tr>\n",
       "    <tr>\n",
       "      <th>9</th>\n",
       "      <td>https://api.github.com/repositories/162375181/...</td>\n",
       "      <td>https://github.com/ironhack-datalabs/scavenger...</td>\n",
       "      <td>.0010.scavengerhunt</td>\n",
       "      <td>47830/.0010.scavengerhunt</td>\n",
       "      <td>{'id': 162375181, 'node_id': 'MDEwOlJlcG9zaXRv...</td>\n",
       "      <td>18.551006</td>\n",
       "      <td>c1187c4badc9be6990570cef850fc87dcf3523b0</td>\n",
       "      <td>https://api.github.com/repositories/162375181/...</td>\n",
       "    </tr>\n",
       "  </tbody>\n",
       "</table>\n",
       "</div>"
      ],
      "text/plain": [
       "                                             git_url  \\\n",
       "0  https://api.github.com/repositories/162375181/...   \n",
       "1  https://api.github.com/repositories/162375181/...   \n",
       "2  https://api.github.com/repositories/162375181/...   \n",
       "3  https://api.github.com/repositories/162375181/...   \n",
       "4  https://api.github.com/repositories/162375181/...   \n",
       "5  https://api.github.com/repositories/162375181/...   \n",
       "6  https://api.github.com/repositories/162375181/...   \n",
       "7  https://api.github.com/repositories/162375181/...   \n",
       "8  https://api.github.com/repositories/162375181/...   \n",
       "9  https://api.github.com/repositories/162375181/...   \n",
       "\n",
       "                                            html_url                 name  \\\n",
       "0  https://github.com/ironhack-datalabs/scavenger...  .0001.scavengerhunt   \n",
       "1  https://github.com/ironhack-datalabs/scavenger...  .0002.scavengerhunt   \n",
       "2  https://github.com/ironhack-datalabs/scavenger...  .0003.scavengerhunt   \n",
       "3  https://github.com/ironhack-datalabs/scavenger...  .0004.scavengerhunt   \n",
       "4  https://github.com/ironhack-datalabs/scavenger...  .0005.scavengerhunt   \n",
       "5  https://github.com/ironhack-datalabs/scavenger...  .0006.scavengerhunt   \n",
       "6  https://github.com/ironhack-datalabs/scavenger...  .0007.scavengerhunt   \n",
       "7  https://github.com/ironhack-datalabs/scavenger...  .0008.scavengerhunt   \n",
       "8  https://github.com/ironhack-datalabs/scavenger...  .0009.scavengerhunt   \n",
       "9  https://github.com/ironhack-datalabs/scavenger...  .0010.scavengerhunt   \n",
       "\n",
       "                        path  \\\n",
       "0  98750/.0001.scavengerhunt   \n",
       "1  88596/.0002.scavengerhunt   \n",
       "2  60224/.0003.scavengerhunt   \n",
       "3  68848/.0004.scavengerhunt   \n",
       "4  44639/.0005.scavengerhunt   \n",
       "5  15024/.0006.scavengerhunt   \n",
       "6  17020/.0007.scavengerhunt   \n",
       "7  15534/.0008.scavengerhunt   \n",
       "8  97881/.0009.scavengerhunt   \n",
       "9  47830/.0010.scavengerhunt   \n",
       "\n",
       "                                          repository      score  \\\n",
       "0  {'id': 162375181, 'node_id': 'MDEwOlJlcG9zaXRv...  18.551006   \n",
       "1  {'id': 162375181, 'node_id': 'MDEwOlJlcG9zaXRv...  18.551006   \n",
       "2  {'id': 162375181, 'node_id': 'MDEwOlJlcG9zaXRv...  18.551006   \n",
       "3  {'id': 162375181, 'node_id': 'MDEwOlJlcG9zaXRv...  18.551006   \n",
       "4  {'id': 162375181, 'node_id': 'MDEwOlJlcG9zaXRv...  18.551006   \n",
       "5  {'id': 162375181, 'node_id': 'MDEwOlJlcG9zaXRv...  18.551006   \n",
       "6  {'id': 162375181, 'node_id': 'MDEwOlJlcG9zaXRv...  18.551006   \n",
       "7  {'id': 162375181, 'node_id': 'MDEwOlJlcG9zaXRv...  18.551006   \n",
       "8  {'id': 162375181, 'node_id': 'MDEwOlJlcG9zaXRv...  18.551006   \n",
       "9  {'id': 162375181, 'node_id': 'MDEwOlJlcG9zaXRv...  18.551006   \n",
       "\n",
       "                                        sha  \\\n",
       "0  2add7632f1323136324efbf38ec66db1838b6173   \n",
       "1  1269488f7fb1f4b56a8c0e5eb48cecbfadfa9219   \n",
       "2  ba524d7abc4b3a0c0995eb85c9eef470e9e7172f   \n",
       "3  d15a2cc44e31b14c65264271b81072e5ba0e1634   \n",
       "4  3aaf448b40f878cf3067e2323616143bdde600de   \n",
       "5  1c9064284a24b3486015eafdb391b141c27ada2b   \n",
       "6  6abb415e0ae3450be0f323113bcca2af195ebbff   \n",
       "7  e351fb73264581ce26504b97ef07daea35116f32   \n",
       "8  f5cb13223fdc1b11f4cfbbe1694f533b3c579fa0   \n",
       "9  c1187c4badc9be6990570cef850fc87dcf3523b0   \n",
       "\n",
       "                                                 url  \n",
       "0  https://api.github.com/repositories/162375181/...  \n",
       "1  https://api.github.com/repositories/162375181/...  \n",
       "2  https://api.github.com/repositories/162375181/...  \n",
       "3  https://api.github.com/repositories/162375181/...  \n",
       "4  https://api.github.com/repositories/162375181/...  \n",
       "5  https://api.github.com/repositories/162375181/...  \n",
       "6  https://api.github.com/repositories/162375181/...  \n",
       "7  https://api.github.com/repositories/162375181/...  \n",
       "8  https://api.github.com/repositories/162375181/...  \n",
       "9  https://api.github.com/repositories/162375181/...  "
      ]
     },
     "execution_count": 5,
     "metadata": {},
     "output_type": "execute_result"
    }
   ],
   "source": [
    "#response_commit[\"items\"].values[0]\n",
    "data = response_commit[\"items\"]\n",
    "#nor_json = json_normalize(ds_commit[\"items\"])\n",
    "sorted_names = sorted(data, key = lambda x : x[\"name\"])\n",
    "data_sorted = pd.DataFrame(sorted_names)\n",
    "data_sorted.head(10)"
   ]
  },
  {
   "cell_type": "code",
   "execution_count": 6,
   "metadata": {},
   "outputs": [
    {
     "data": {
      "text/plain": [
       "['98750/.0001.scavengerhunt',\n",
       " '88596/.0002.scavengerhunt',\n",
       " '60224/.0003.scavengerhunt',\n",
       " '68848/.0004.scavengerhunt',\n",
       " '44639/.0005.scavengerhunt',\n",
       " '15024/.0006.scavengerhunt',\n",
       " '17020/.0007.scavengerhunt',\n",
       " '15534/.0008.scavengerhunt',\n",
       " '97881/.0009.scavengerhunt',\n",
       " '47830/.0010.scavengerhunt',\n",
       " '50896/.0011.scavengerhunt',\n",
       " '15534/.0012.scavengerhunt',\n",
       " '89338/.0013.scavengerhunt',\n",
       " '49418/.0014.scavengerhunt',\n",
       " '91701/.0015.scavengerhunt',\n",
       " '47222/.0016.scavengerhunt',\n",
       " '70985/.0017.scavengerhunt',\n",
       " '45525/.0018.scavengerhunt',\n",
       " '70751/.0019.scavengerhunt',\n",
       " '55685/.0020.scavengerhunt',\n",
       " '30351/.0021.scavengerhunt',\n",
       " '40303/.0022.scavengerhunt',\n",
       " '55417/.0023.scavengerhunt',\n",
       " '47222/.0024.scavengerhunt']"
      ]
     },
     "execution_count": 6,
     "metadata": {},
     "output_type": "execute_result"
    }
   ],
   "source": [
    "list(data_sorted.path.values)"
   ]
  },
  {
   "cell_type": "code",
   "execution_count": 14,
   "metadata": {},
   "outputs": [
    {
     "name": "stdout",
     "output_type": "stream",
     "text": [
      "[<Response [404]>, <Response [404]>, <Response [404]>, <Response [404]>, <Response [404]>, <Response [404]>, <Response [404]>, <Response [404]>, <Response [404]>, <Response [404]>, <Response [404]>, <Response [404]>, <Response [404]>, <Response [404]>, <Response [404]>, <Response [404]>, <Response [404]>, <Response [404]>, <Response [404]>, <Response [404]>, <Response [404]>, <Response [404]>, <Response [404]>, <Response [404]>]\n"
     ]
    }
   ],
   "source": [
    "\n",
    "c_url = \"https://api.github.com/repos/ironhack-datalabs/scavenger/git/blob/master/\" \n",
    "#requests.get(url, auth=('username', 'tokennumber'))\n",
    "#requests.get(c_url + path, auth = (\"naivm\", \"92570e27c896de47f49b38d47d51e2b21ca06554\"))\n",
    "cont = [requests.get(c_url+path, auth = (\"naivm\", \"92570e27c896de47f49b38d47d51e2b21ca06554\")) for path in data_sorted.path.values]\n",
    "\n",
    "print(cont)"
   ]
  },
  {
   "cell_type": "code",
   "execution_count": 9,
   "metadata": {},
   "outputs": [],
   "source": [
    "base_url = \"https://api.github.com/repos/ironhack-datalabs/scavenger/git/blobs/\"\n",
    "\n",
    "\n",
    "contents = [requests.get(base_url + sha).content for sha in nor_json.sha.values]\n",
    "#response_contents = requests.get(base_url) \n",
    "#ds_contents = pd.DataFrame(response_contents.json())\n",
    "#ds_contents.head()\n",
    "#/repos/:owner/:repo/git/blobs/:file_sha\n"
   ]
  },
  {
   "cell_type": "code",
   "execution_count": 10,
   "metadata": {},
   "outputs": [
    {
     "name": "stdout",
     "output_type": "stream",
     "text": [
      "[b'{\"sha\":\"1c9064284a24b3486015eafdb391b141c27ada2b\",\"node_id\":\"MDQ6QmxvYjE2MjM3NTE4MToxYzkwNjQyODRhMjRiMzQ4NjAxNWVhZmRiMzkxYjE0MWMyN2FkYTJi\",\"size\":3,\"url\":\"https://api.github.com/repos/ironhack-datalabs/scavenger/git/blobs/1c9064284a24b3486015eafdb391b141c27ada2b\",\"content\":\"b2YK\\\\n\",\"encoding\":\"base64\"}', b'{\"sha\":\"1c9064284a24b3486015eafdb391b141c27ada2b\",\"node_id\":\"MDQ6QmxvYjE2MjM3NTE4MToxYzkwNjQyODRhMjRiMzQ4NjAxNWVhZmRiMzkxYjE0MWMyN2FkYTJi\",\"size\":3,\"url\":\"https://api.github.com/repos/ironhack-datalabs/scavenger/git/blobs/1c9064284a24b3486015eafdb391b141c27ada2b\",\"content\":\"b2YK\\\\n\",\"encoding\":\"base64\"}', b'{\"sha\":\"e351fb73264581ce26504b97ef07daea35116f32\",\"node_id\":\"MDQ6QmxvYjE2MjM3NTE4MTplMzUxZmI3MzI2NDU4MWNlMjY1MDRiOTdlZjA3ZGFlYTM1MTE2ZjMy\",\"size\":6,\"url\":\"https://api.github.com/repos/ironhack-datalabs/scavenger/git/blobs/e351fb73264581ce26504b97ef07daea35116f32\",\"content\":\"c3BlbnQK\\\\n\",\"encoding\":\"base64\"}', b'{\"sha\":\"e351fb73264581ce26504b97ef07daea35116f32\",\"node_id\":\"MDQ6QmxvYjE2MjM3NTE4MTplMzUxZmI3MzI2NDU4MWNlMjY1MDRiOTdlZjA3ZGFlYTM1MTE2ZjMy\",\"size\":6,\"url\":\"https://api.github.com/repos/ironhack-datalabs/scavenger/git/blobs/e351fb73264581ce26504b97ef07daea35116f32\",\"content\":\"c3BlbnQK\\\\n\",\"encoding\":\"base64\"}', b'{\"sha\":\"209e3ef4b6247ce746048d5711befda46206d235\",\"node_id\":\"MDQ6QmxvYjE2MjM3NTE4MToyMDllM2VmNGI2MjQ3Y2U3NDYwNDhkNTcxMWJlZmRhNDYyMDZkMjM1\",\"size\":3,\"url\":\"https://api.github.com/repos/ironhack-datalabs/scavenger/git/blobs/209e3ef4b6247ce746048d5711befda46206d235\",\"content\":\"MjAK\\\\n\",\"encoding\":\"base64\"}', b'{\"sha\":\"6abb415e0ae3450be0f323113bcca2af195ebbff\",\"node_id\":\"MDQ6QmxvYjE2MjM3NTE4MTo2YWJiNDE1ZTBhZTM0NTBiZTBmMzIzMTEzYmNjYTJhZjE5NWViYmZm\",\"size\":5,\"url\":\"https://api.github.com/repos/ironhack-datalabs/scavenger/git/blobs/6abb415e0ae3450be0f323113bcca2af195ebbff\",\"content\":\"dGltZQo=\\\\n\",\"encoding\":\"base64\"}', b'{\"sha\":\"6abb415e0ae3450be0f323113bcca2af195ebbff\",\"node_id\":\"MDQ6QmxvYjE2MjM3NTE4MTo2YWJiNDE1ZTBhZTM0NTBiZTBmMzIzMTEzYmNjYTJhZjE5NWViYmZm\",\"size\":5,\"url\":\"https://api.github.com/repos/ironhack-datalabs/scavenger/git/blobs/6abb415e0ae3450be0f323113bcca2af195ebbff\",\"content\":\"dGltZQo=\\\\n\",\"encoding\":\"base64\"}', b'{\"sha\":\"fb828e4a926b0a84fc16111fc0ee3eeec41f0ce7\",\"node_id\":\"MDQ6QmxvYjE2MjM3NTE4MTpmYjgyOGU0YTkyNmIwYTg0ZmMxNjExMWZjMGVlM2VlZWM0MWYwY2U3\",\"size\":5,\"url\":\"https://api.github.com/repos/ironhack-datalabs/scavenger/git/blobs/fb828e4a926b0a84fc16111fc0ee3eeec41f0ce7\",\"content\":\"bmVlZAo=\\\\n\",\"encoding\":\"base64\"}', b'{\"sha\":\"bf3efa02f721c40c03a613824e345243a35f6812\",\"node_id\":\"MDQ6QmxvYjE2MjM3NTE4MTpiZjNlZmEwMmY3MjFjNDBjMDNhNjEzODI0ZTM0NTI0M2EzNWY2ODEy\",\"size\":3,\"url\":\"https://api.github.com/repos/ironhack-datalabs/scavenger/git/blobs/bf3efa02f721c40c03a613824e345243a35f6812\",\"content\":\"dG8K\\\\n\",\"encoding\":\"base64\"}', b'{\"sha\":\"3aaf448b40f878cf3067e2323616143bdde600de\",\"node_id\":\"MDQ6QmxvYjE2MjM3NTE4MTozYWFmNDQ4YjQwZjg3OGNmMzA2N2UyMzIzNjE2MTQzYmRkZTYwMGRl\",\"size\":8,\"url\":\"https://api.github.com/repos/ironhack-datalabs/scavenger/git/blobs/3aaf448b40f878cf3067e2323616143bdde600de\",\"content\":\"cGVyY2VudAo=\\\\n\",\"encoding\":\"base64\"}', b'{\"sha\":\"3aaf448b40f878cf3067e2323616143bdde600de\",\"node_id\":\"MDQ6QmxvYjE2MjM3NTE4MTozYWFmNDQ4YjQwZjg3OGNmMzA2N2UyMzIzNjE2MTQzYmRkZTYwMGRl\",\"size\":8,\"url\":\"https://api.github.com/repos/ironhack-datalabs/scavenger/git/blobs/3aaf448b40f878cf3067e2323616143bdde600de\",\"content\":\"cGVyY2VudAo=\\\\n\",\"encoding\":\"base64\"}', b'{\"sha\":\"397b22b2dc371e8db59ed327f0b75321e4c0d0f2\",\"node_id\":\"MDQ6QmxvYjE2MjM3NTE4MTozOTdiMjJiMmRjMzcxZThkYjU5ZWQzMjdmMGI3NTMyMWU0YzBkMGYy\",\"size\":12,\"url\":\"https://api.github.com/repos/ironhack-datalabs/scavenger/git/blobs/397b22b2dc371e8db59ed327f0b75321e4c0d0f2\",\"content\":\"Y29tcGxhaW5pbmcK\\\\n\",\"encoding\":\"base64\"}', b'{\"sha\":\"f5cb13223fdc1b11f4cfbbe1694f533b3c579fa0\",\"node_id\":\"MDQ6QmxvYjE2MjM3NTE4MTpmNWNiMTMyMjNmZGMxYjExZjRjZmJiZTE2OTRmNTMzYjNjNTc5ZmEw\",\"size\":3,\"url\":\"https://api.github.com/repos/ironhack-datalabs/scavenger/git/blobs/f5cb13223fdc1b11f4cfbbe1694f533b3c579fa0\",\"content\":\"aXMK\\\\n\",\"encoding\":\"base64\"}', b'{\"sha\":\"f5cb13223fdc1b11f4cfbbe1694f533b3c579fa0\",\"node_id\":\"MDQ6QmxvYjE2MjM3NTE4MTpmNWNiMTMyMjNmZGMxYjExZjRjZmJiZTE2OTRmNTMzYjNjNTc5ZmEw\",\"size\":3,\"url\":\"https://api.github.com/repos/ironhack-datalabs/scavenger/git/blobs/f5cb13223fdc1b11f4cfbbe1694f533b3c579fa0\",\"content\":\"aXMK\\\\n\",\"encoding\":\"base64\"}', b'{\"sha\":\"47eb4306e5fec9e051dacabc7039348109784b94\",\"node_id\":\"MDQ6QmxvYjE2MjM3NTE4MTo0N2ViNDMwNmU1ZmVjOWUwNTFkYWNhYmM3MDM5MzQ4MTA5Nzg0Yjk0\",\"size\":6,\"url\":\"https://api.github.com/repos/ironhack-datalabs/scavenger/git/blobs/47eb4306e5fec9e051dacabc7039348109784b94\",\"content\":\"ZGF0YS4K\\\\n\",\"encoding\":\"base64\"}', b'{\"sha\":\"c1187c4badc9be6990570cef850fc87dcf3523b0\",\"node_id\":\"MDQ6QmxvYjE2MjM3NTE4MTpjMTE4N2M0YmFkYzliZTY5OTA1NzBjZWY4NTBmYzg3ZGNmMzUyM2Iw\",\"size\":10,\"url\":\"https://api.github.com/repos/ironhack-datalabs/scavenger/git/blobs/c1187c4badc9be6990570cef850fc87dcf3523b0\",\"content\":\"cHJlcGFyaW5nCg==\\\\n\",\"encoding\":\"base64\"}', b'{\"sha\":\"1a00a70b240d8947af0aaa04f1a93a52c72f7420\",\"node_id\":\"MDQ6QmxvYjE2MjM3NTE4MToxYTAwYTcwYjI0MGQ4OTQ3YWYwYWFhMDRmMWE5M2E1MmM3MmY3NDIw\",\"size\":6,\"url\":\"https://api.github.com/repos/ironhack-datalabs/scavenger/git/blobs/1a00a70b240d8947af0aaa04f1a93a52c72f7420\",\"content\":\"ZGF0YSwK\\\\n\",\"encoding\":\"base64\"}', b'{\"sha\":\"04d0ffb8d895a9e3ee244493e829a24468bd1f60\",\"node_id\":\"MDQ6QmxvYjE2MjM3NTE4MTowNGQwZmZiOGQ4OTVhOWUzZWUyNDQ0OTNlODI5YTI0NDY4YmQxZjYw\",\"size\":8,\"url\":\"https://api.github.com/repos/ironhack-datalabs/scavenger/git/blobs/04d0ffb8d895a9e3ee244493e829a24468bd1f60\",\"content\":\"cHJlcGFyZQo=\\\\n\",\"encoding\":\"base64\"}', b'{\"sha\":\"41d25f51c301c5eee3737998b0d86573e4e91b90\",\"node_id\":\"MDQ6QmxvYjE2MjM3NTE4MTo0MWQyNWY1MWMzMDFjNWVlZTM3Mzc5OThiMGQ4NjU3M2U0ZTkxYjkw\",\"size\":4,\"url\":\"https://api.github.com/repos/ironhack-datalabs/scavenger/git/blobs/41d25f51c301c5eee3737998b0d86573e4e91b90\",\"content\":\"dGhlCg==\\\\n\",\"encoding\":\"base64\"}', b'{\"sha\":\"ba524d7abc4b3a0c0995eb85c9eef470e9e7172f\",\"node_id\":\"MDQ6QmxvYjE2MjM3NTE4MTpiYTUyNGQ3YWJjNGIzYTBjMDk5NWViODVjOWVlZjQ3MGU5ZTcxNzJm\",\"size\":9,\"url\":\"https://api.github.com/repos/ironhack-datalabs/scavenger/git/blobs/ba524d7abc4b3a0c0995eb85c9eef470e9e7172f\",\"content\":\"c2NpZW5jZSwK\\\\n\",\"encoding\":\"base64\"}', b'{\"sha\":\"d15a2cc44e31b14c65264271b81072e5ba0e1634\",\"node_id\":\"MDQ6QmxvYjE2MjM3NTE4MTpkMTVhMmNjNDRlMzFiMTRjNjUyNjQyNzFiODEwNzJlNWJhMGUxNjM0\",\"size\":3,\"url\":\"https://api.github.com/repos/ironhack-datalabs/scavenger/git/blobs/d15a2cc44e31b14c65264271b81072e5ba0e1634\",\"content\":\"ODAK\\\\n\",\"encoding\":\"base64\"}', b'{\"sha\":\"09e16f36b3c4993ba924b1074629283a49869be9\",\"node_id\":\"MDQ6QmxvYjE2MjM3NTE4MTowOWUxNmYzNmIzYzQ5OTNiYTkyNGIxMDc0NjI5MjgzYTQ5ODY5YmU5\",\"size\":6,\"url\":\"https://api.github.com/repos/ironhack-datalabs/scavenger/git/blobs/09e16f36b3c4993ba924b1074629283a49869be9\",\"content\":\"YWJvdXQK\\\\n\",\"encoding\":\"base64\"}', b'{\"sha\":\"1269488f7fb1f4b56a8c0e5eb48cecbfadfa9219\",\"node_id\":\"MDQ6QmxvYjE2MjM3NTE4MToxMjY5NDg4ZjdmYjFmNGI1NmE4YzBlNWViNDhjZWNiZmFkZmE5MjE5\",\"size\":5,\"url\":\"https://api.github.com/repos/ironhack-datalabs/scavenger/git/blobs/1269488f7fb1f4b56a8c0e5eb48cecbfadfa9219\",\"content\":\"ZGF0YQo=\\\\n\",\"encoding\":\"base64\"}', b'{\"sha\":\"2add7632f1323136324efbf38ec66db1838b6173\",\"node_id\":\"MDQ6QmxvYjE2MjM3NTE4MToyYWRkNzYzMmYxMzIzMTM2MzI0ZWZiZjM4ZWM2NmRiMTgzOGI2MTcz\",\"size\":3,\"url\":\"https://api.github.com/repos/ironhack-datalabs/scavenger/git/blobs/2add7632f1323136324efbf38ec66db1838b6173\",\"content\":\"SW4K\\\\n\",\"encoding\":\"base64\"}']\n"
     ]
    }
   ],
   "source": [
    "print(contents)"
   ]
  },
  {
   "cell_type": "code",
   "execution_count": 11,
   "metadata": {},
   "outputs": [
    {
     "ename": "AttributeError",
     "evalue": "'int' object has no attribute 'values'",
     "output_type": "error",
     "traceback": [
      "\u001b[1;31m---------------------------------------------------------------------------\u001b[0m",
      "\u001b[1;31mAttributeError\u001b[0m                            Traceback (most recent call last)",
      "\u001b[1;32m<ipython-input-11-edd9bd24ad9c>\u001b[0m in \u001b[0;36m<module>\u001b[1;34m\u001b[0m\n\u001b[0;32m      1\u001b[0m \u001b[1;31m#norm_commit = json_normalize(contents)\u001b[0m\u001b[1;33m\u001b[0m\u001b[1;33m\u001b[0m\u001b[1;33m\u001b[0m\u001b[0m\n\u001b[1;32m----> 2\u001b[1;33m \u001b[0mds_commit\u001b[0m \u001b[1;33m=\u001b[0m \u001b[0mpd\u001b[0m\u001b[1;33m.\u001b[0m\u001b[0mDataFrame\u001b[0m\u001b[1;33m(\u001b[0m\u001b[1;33m[\u001b[0m\u001b[0mjson_normalize\u001b[0m\u001b[1;33m(\u001b[0m\u001b[0mcontent\u001b[0m\u001b[1;33m)\u001b[0m \u001b[1;32mfor\u001b[0m \u001b[0mcontent\u001b[0m \u001b[1;32min\u001b[0m \u001b[0mcontents\u001b[0m\u001b[1;33m]\u001b[0m\u001b[1;33m)\u001b[0m\u001b[1;33m\u001b[0m\u001b[1;33m\u001b[0m\u001b[0m\n\u001b[0m\u001b[0;32m      3\u001b[0m \u001b[1;31m#ds_normalized[\"language\"].describe()\u001b[0m\u001b[1;33m\u001b[0m\u001b[1;33m\u001b[0m\u001b[1;33m\u001b[0m\u001b[0m\n\u001b[0;32m      4\u001b[0m \u001b[0mds_commit\u001b[0m\u001b[1;33m.\u001b[0m\u001b[0mhead\u001b[0m\u001b[1;33m(\u001b[0m\u001b[1;33m)\u001b[0m\u001b[1;33m\u001b[0m\u001b[1;33m\u001b[0m\u001b[0m\n",
      "\u001b[1;32m<ipython-input-11-edd9bd24ad9c>\u001b[0m in \u001b[0;36m<listcomp>\u001b[1;34m(.0)\u001b[0m\n\u001b[0;32m      1\u001b[0m \u001b[1;31m#norm_commit = json_normalize(contents)\u001b[0m\u001b[1;33m\u001b[0m\u001b[1;33m\u001b[0m\u001b[1;33m\u001b[0m\u001b[0m\n\u001b[1;32m----> 2\u001b[1;33m \u001b[0mds_commit\u001b[0m \u001b[1;33m=\u001b[0m \u001b[0mpd\u001b[0m\u001b[1;33m.\u001b[0m\u001b[0mDataFrame\u001b[0m\u001b[1;33m(\u001b[0m\u001b[1;33m[\u001b[0m\u001b[0mjson_normalize\u001b[0m\u001b[1;33m(\u001b[0m\u001b[0mcontent\u001b[0m\u001b[1;33m)\u001b[0m \u001b[1;32mfor\u001b[0m \u001b[0mcontent\u001b[0m \u001b[1;32min\u001b[0m \u001b[0mcontents\u001b[0m\u001b[1;33m]\u001b[0m\u001b[1;33m)\u001b[0m\u001b[1;33m\u001b[0m\u001b[1;33m\u001b[0m\u001b[0m\n\u001b[0m\u001b[0;32m      3\u001b[0m \u001b[1;31m#ds_normalized[\"language\"].describe()\u001b[0m\u001b[1;33m\u001b[0m\u001b[1;33m\u001b[0m\u001b[1;33m\u001b[0m\u001b[0m\n\u001b[0;32m      4\u001b[0m \u001b[0mds_commit\u001b[0m\u001b[1;33m.\u001b[0m\u001b[0mhead\u001b[0m\u001b[1;33m(\u001b[0m\u001b[1;33m)\u001b[0m\u001b[1;33m\u001b[0m\u001b[1;33m\u001b[0m\u001b[0m\n",
      "\u001b[1;32mC:\\ProgramData\\Anaconda3\\lib\\site-packages\\pandas\\io\\json\\normalize.py\u001b[0m in \u001b[0;36mjson_normalize\u001b[1;34m(data, record_path, meta, meta_prefix, record_prefix, errors, sep)\u001b[0m\n\u001b[0;32m    200\u001b[0m     \u001b[1;32mif\u001b[0m \u001b[0mrecord_path\u001b[0m \u001b[1;32mis\u001b[0m \u001b[1;32mNone\u001b[0m\u001b[1;33m:\u001b[0m\u001b[1;33m\u001b[0m\u001b[1;33m\u001b[0m\u001b[0m\n\u001b[0;32m    201\u001b[0m         if any([isinstance(x, dict)\n\u001b[1;32m--> 202\u001b[1;33m                 for x in compat.itervalues(y)] for y in data):\n\u001b[0m\u001b[0;32m    203\u001b[0m             \u001b[1;31m# naive normalization, this is idempotent for flat records\u001b[0m\u001b[1;33m\u001b[0m\u001b[1;33m\u001b[0m\u001b[1;33m\u001b[0m\u001b[0m\n\u001b[0;32m    204\u001b[0m             \u001b[1;31m# and potentially will inflate the data considerably for\u001b[0m\u001b[1;33m\u001b[0m\u001b[1;33m\u001b[0m\u001b[1;33m\u001b[0m\u001b[0m\n",
      "\u001b[1;32mC:\\ProgramData\\Anaconda3\\lib\\site-packages\\pandas\\io\\json\\normalize.py\u001b[0m in \u001b[0;36m<genexpr>\u001b[1;34m(.0)\u001b[0m\n\u001b[0;32m    200\u001b[0m     \u001b[1;32mif\u001b[0m \u001b[0mrecord_path\u001b[0m \u001b[1;32mis\u001b[0m \u001b[1;32mNone\u001b[0m\u001b[1;33m:\u001b[0m\u001b[1;33m\u001b[0m\u001b[1;33m\u001b[0m\u001b[0m\n\u001b[0;32m    201\u001b[0m         if any([isinstance(x, dict)\n\u001b[1;32m--> 202\u001b[1;33m                 for x in compat.itervalues(y)] for y in data):\n\u001b[0m\u001b[0;32m    203\u001b[0m             \u001b[1;31m# naive normalization, this is idempotent for flat records\u001b[0m\u001b[1;33m\u001b[0m\u001b[1;33m\u001b[0m\u001b[1;33m\u001b[0m\u001b[0m\n\u001b[0;32m    204\u001b[0m             \u001b[1;31m# and potentially will inflate the data considerably for\u001b[0m\u001b[1;33m\u001b[0m\u001b[1;33m\u001b[0m\u001b[1;33m\u001b[0m\u001b[0m\n",
      "\u001b[1;32mC:\\ProgramData\\Anaconda3\\lib\\site-packages\\pandas\\compat\\__init__.py\u001b[0m in \u001b[0;36mitervalues\u001b[1;34m(obj, **kw)\u001b[0m\n\u001b[0;32m    226\u001b[0m \u001b[1;33m\u001b[0m\u001b[0m\n\u001b[0;32m    227\u001b[0m     \u001b[1;32mdef\u001b[0m \u001b[0mitervalues\u001b[0m\u001b[1;33m(\u001b[0m\u001b[0mobj\u001b[0m\u001b[1;33m,\u001b[0m \u001b[1;33m**\u001b[0m\u001b[0mkw\u001b[0m\u001b[1;33m)\u001b[0m\u001b[1;33m:\u001b[0m\u001b[1;33m\u001b[0m\u001b[1;33m\u001b[0m\u001b[0m\n\u001b[1;32m--> 228\u001b[1;33m         \u001b[1;32mreturn\u001b[0m \u001b[0miter\u001b[0m\u001b[1;33m(\u001b[0m\u001b[0mobj\u001b[0m\u001b[1;33m.\u001b[0m\u001b[0mvalues\u001b[0m\u001b[1;33m(\u001b[0m\u001b[1;33m**\u001b[0m\u001b[0mkw\u001b[0m\u001b[1;33m)\u001b[0m\u001b[1;33m)\u001b[0m\u001b[1;33m\u001b[0m\u001b[1;33m\u001b[0m\u001b[0m\n\u001b[0m\u001b[0;32m    229\u001b[0m \u001b[1;33m\u001b[0m\u001b[0m\n\u001b[0;32m    230\u001b[0m     \u001b[0mnext\u001b[0m \u001b[1;33m=\u001b[0m \u001b[0mnext\u001b[0m\u001b[1;33m\u001b[0m\u001b[1;33m\u001b[0m\u001b[0m\n",
      "\u001b[1;31mAttributeError\u001b[0m: 'int' object has no attribute 'values'"
     ]
    }
   ],
   "source": [
    "#norm_commit = json_normalize(contents)\n",
    "ds_commit = pd.DataFrame([json_normalize(content) for content in contents])\n",
    "#ds_normalized[\"language\"].describe()\n",
    "ds_commit.head()"
   ]
  },
  {
   "cell_type": "code",
   "execution_count": 77,
   "metadata": {},
   "outputs": [
    {
     "data": {
      "text/plain": [
       "b'{\"name\":\".0006.scavengerhunt\",\"path\":\"15024/.0006.scavengerhunt\",\"sha\":\"1c9064284a24b3486015eafdb391b141c27ada2b\",\"size\":3,\"url\":\"https://api.github.com/repos/ironhack-datalabs/scavenger/contents/15024/.0006.scavengerhunt?ref=master\",\"html_url\":\"https://github.com/ironhack-datalabs/scavenger/blob/master/15024/.0006.scavengerhunt\",\"git_url\":\"https://api.github.com/repos/ironhack-datalabs/scavenger/git/blobs/1c9064284a24b3486015eafdb391b141c27ada2b\",\"download_url\":\"https://raw.githubusercontent.com/ironhack-datalabs/scavenger/master/15024/.0006.scavengerhunt\",\"type\":\"file\",\"content\":\"b2YK\\\\n\",\"encoding\":\"base64\",\"_links\":{\"self\":\"https://api.github.com/repos/ironhack-datalabs/scavenger/contents/15024/.0006.scavengerhunt?ref=master\",\"git\":\"https://api.github.com/repos/ironhack-datalabs/scavenger/git/blobs/1c9064284a24b3486015eafdb391b141c27ada2b\",\"html\":\"https://github.com/ironhack-datalabs/scavenger/blob/master/15024/.0006.scavengerhunt\"}}'"
      ]
     },
     "execution_count": 77,
     "metadata": {},
     "output_type": "execute_result"
    }
   ],
   "source": [
    "contents[0]"
   ]
  },
  {
   "cell_type": "code",
   "execution_count": null,
   "metadata": {},
   "outputs": [],
   "source": []
  }
 ],
 "metadata": {
  "kernelspec": {
   "display_name": "Python 3",
   "language": "python",
   "name": "python3"
  },
  "language_info": {
   "codemirror_mode": {
    "name": "ipython",
    "version": 3
   },
   "file_extension": ".py",
   "mimetype": "text/x-python",
   "name": "python",
   "nbconvert_exporter": "python",
   "pygments_lexer": "ipython3",
   "version": "3.7.3"
  }
 },
 "nbformat": 4,
 "nbformat_minor": 2
}
